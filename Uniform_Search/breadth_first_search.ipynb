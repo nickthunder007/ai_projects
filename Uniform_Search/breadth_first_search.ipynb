{
 "cells": [
  {
   "cell_type": "code",
   "execution_count": 176,
   "id": "72175a97",
   "metadata": {},
   "outputs": [],
   "source": [
    "maze = [\n",
    "    [\"s\", \" \", \" \", \"x\", \" \", \"x\", \"x\", \" \", \" \", \"x\"],      #here s=start\n",
    "    [\"x\", \"x\", \" \", \"x\", \" \", \" \", \"x\", \" \", \"x\", \" \"],      #     e=end \n",
    "    [\" \", \" \", \" \", \" \", \" \", \" \", \"x\", \" \", \" \", \" \"],      #     x=obstacle\n",
    "    [\" \", \"x\", \" \", \"x\", \"x\", \" \", \" \", \"x\", \" \", \" \"],\n",
    "    [\"x\", \" \", \"x\", \"x\", \"x\", \" \", \"x\", \" \", \"x\", \" \"],\n",
    "    [\" \", \" \", \" \", \" \", \" \", \" \", \" \", \" \", \"e\", \" \"],\n",
    "    [\" \", \"x\", \" \", \"x\", \" \", \"x\", \"x\", \"x\", \"x\", \" \"],\n",
    "    [\" \", \" \", \" \", \"x\", \" \", \" \", \"x\", \" \", \" \", \" \"],\n",
    "]\n",
    "\n"
   ]
  },
  {
   "cell_type": "code",
   "execution_count": 169,
   "id": "d4d559cc",
   "metadata": {},
   "outputs": [],
   "source": [
    "class BFS():\n",
    "    def __init__(self,maze,start=None,end=None):\n",
    "        self.maze = maze\n",
    "        self.visited = []\n",
    "        self.raw = len(self.maze)\n",
    "        self.cols = len(self.maze[0])\n",
    "        if(start==None):\n",
    "            self.start,self.end = self.get_start_end(maze) \n",
    "            \n",
    "        else:\n",
    "            self.start = start\n",
    "            self.end = end\n",
    "            \n",
    "        self.paths = [[self.start]]\n",
    "        self.not_visited = []\n",
    "\n",
    "    def get_start_end(self,maze):\n",
    "        start = 0\n",
    "        end = 0\n",
    "        for i in range(self.raw):\n",
    "            for j in range(self.cols):\n",
    "                if(maze[i][j] == \"s\"):\n",
    "                    start = [i,j]\n",
    "                if(maze[i][j] == 'e'):\n",
    "                    end = [i,j]   \n",
    "        return start,end\n",
    "    \n",
    "    def find_best_path(self):\n",
    "        [i,j] = self.start \n",
    "        flag = True\n",
    "        count = 0\n",
    "\n",
    "        while (flag and count<50):\n",
    "            self.not_visited = self.paths.pop()\n",
    "            if(self.not_visited == 0):\n",
    "                print(\"No Possible path available...\")\n",
    "                break\n",
    "                \n",
    "            [i,j] = self.not_visited[-1]\n",
    "            count+=1\n",
    "            if(j+1<self.cols):\n",
    "                ans = [i,j+1] not in self.visited \n",
    "                if(self.maze[i][j+1]!='x' and ans):\n",
    "                    self.visited.append([i,j+1])\n",
    "                    self.not_visited.append([i,j+1])\n",
    "                    self.paths.append(list(self.not_visited))\n",
    "                    self.not_visited.pop()\n",
    "                    if(self.maze[i][j+1]=='e'):\n",
    "                        break\n",
    "\n",
    "            if(i+1<self.raw):\n",
    "                ans = [i+1,j] not in self.visited  \n",
    "                if(self.maze[i+1][j]!='x' and ans):\n",
    "                    self.visited.append([i+1,j])\n",
    "                    self.not_visited.append([i+1,j])\n",
    "                    self.paths.append(list(self.not_visited))\n",
    "                    self.not_visited.pop()\n",
    "                    if(self.maze[i+1][j]=='e'):\n",
    "                        break\n",
    "\n",
    "            if(j-1>=0):\n",
    "                ans = [i,j-1] not in self.visited \n",
    "                if(self.maze[i][j-1]!='x' and ans):\n",
    "                    self.visited.append([i,j-1])\n",
    "                    self.not_visited.append([i,j-1])\n",
    "                    self.paths.append(list(self.not_visited))\n",
    "                    self.not_visited.pop()\n",
    "                    if(self.maze[i][j-1]=='e'):\n",
    "                        break\n",
    "\n",
    "            if(i-1>=0):\n",
    "                ans = [i-1,j] not in self.visited \n",
    "                if(self.maze[i-1][j]!='x' and ans):\n",
    "                    self.visited.append([i-1,j])\n",
    "                    self.not_visited.append([i-1,j])\n",
    "                    self.paths.append(list(self.not_visited))\n",
    "                    self.not_visited.pop()\n",
    "                    if(self.maze[i-1][j]=='e'):\n",
    "                        break\n",
    "        print(\"Success...\")\n",
    "        return self.paths[-1]\n",
    "\n",
    "  "
   ]
  },
  {
   "cell_type": "code",
   "execution_count": 170,
   "id": "04a8fcf8",
   "metadata": {},
   "outputs": [
    {
     "name": "stdout",
     "output_type": "stream",
     "text": [
      "Success...\n"
     ]
    }
   ],
   "source": [
    "creat_obj = BFS(maze = maze)\n",
    "best_path = creat_obj.find_best_path()"
   ]
  },
  {
   "cell_type": "code",
   "execution_count": 177,
   "id": "7769275e",
   "metadata": {},
   "outputs": [],
   "source": [
    "for i in range(1,len(best_path)-1):\n",
    "    maze[best_path[i][0]][best_path[i][1]] = '*'"
   ]
  },
  {
   "cell_type": "code",
   "execution_count": 178,
   "id": "63a9612e",
   "metadata": {},
   "outputs": [
    {
     "data": {
      "text/plain": [
       "[['s', '*', '*', 'x', ' ', 'x', 'x', ' ', ' ', 'x'],\n",
       " ['x', 'x', '*', 'x', ' ', ' ', 'x', ' ', 'x', ' '],\n",
       " [' ', ' ', '*', '*', '*', '*', 'x', ' ', ' ', ' '],\n",
       " [' ', 'x', ' ', 'x', 'x', '*', ' ', 'x', ' ', ' '],\n",
       " ['x', ' ', 'x', 'x', 'x', '*', 'x', ' ', 'x', ' '],\n",
       " [' ', ' ', ' ', ' ', ' ', '*', '*', '*', 'e', ' '],\n",
       " [' ', 'x', ' ', 'x', ' ', 'x', 'x', 'x', 'x', ' '],\n",
       " [' ', ' ', ' ', 'x', ' ', ' ', 'x', ' ', ' ', ' ']]"
      ]
     },
     "execution_count": 178,
     "metadata": {},
     "output_type": "execute_result"
    }
   ],
   "source": [
    "maze"
   ]
  },
  {
   "cell_type": "code",
   "execution_count": null,
   "id": "687a5914",
   "metadata": {},
   "outputs": [],
   "source": []
  }
 ],
 "metadata": {
  "kernelspec": {
   "display_name": "Python 3 (ipykernel)",
   "language": "python",
   "name": "python3"
  },
  "language_info": {
   "codemirror_mode": {
    "name": "ipython",
    "version": 3
   },
   "file_extension": ".py",
   "mimetype": "text/x-python",
   "name": "python",
   "nbconvert_exporter": "python",
   "pygments_lexer": "ipython3",
   "version": "3.9.7"
  }
 },
 "nbformat": 4,
 "nbformat_minor": 5
}
